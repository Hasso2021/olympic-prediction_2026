{
 "cells": [
  {
   "cell_type": "code",
   "execution_count": null,
   "id": "c13b6919",
   "metadata": {},
   "outputs": [],
   "source": [
    "import pandas as pd\n",
    "import numpy as np\n",
    "from pathlib import Path\n",
    "import json "
   ]
  },
  {
   "cell_type": "code",
   "execution_count": null,
   "id": "2d52acde",
   "metadata": {},
   "outputs": [
    {
     "name": "stdout",
     "output_type": "stream",
     "text": [
      "<class 'pandas.core.frame.DataFrame'>\n",
      "RangeIndex: 75904 entries, 0 to 75903\n",
      "Data columns (total 7 columns):\n",
      " #   Column                Non-Null Count  Dtype  \n",
      "---  ------                --------------  -----  \n",
      " 0   athlete_url           75904 non-null  object \n",
      " 1   athlete_full_name     75904 non-null  object \n",
      " 2   games_participations  75904 non-null  int64  \n",
      " 3   first_game            75882 non-null  object \n",
      " 4   athlete_year_birth    73448 non-null  float64\n",
      " 5   athlete_medals        15352 non-null  object \n",
      " 6   bio                   22842 non-null  object \n",
      "dtypes: float64(1), int64(1), object(5)\n",
      "memory usage: 4.1+ MB\n",
      "None\n",
      "                                         athlete_url       athlete_full_name  \\\n",
      "0  https://olympics.com/en/athletes/cooper-woods-...  Cooper WOODS-TOPALOVIC   \n",
      "1          https://olympics.com/en/athletes/elofsson          Felix ELOFSSON   \n",
      "2     https://olympics.com/en/athletes/dylan-walczyk           Dylan WALCZYK   \n",
      "3     https://olympics.com/en/athletes/olli-penttala           Olli PENTTALA   \n",
      "4          https://olympics.com/en/athletes/reikherd        Dmitriy REIKHERD   \n",
      "\n",
      "   games_participations        first_game  athlete_year_birth athlete_medals  \\\n",
      "0                     1      Beijing 2022              2000.0           None   \n",
      "1                     2  PyeongChang 2018              1995.0           None   \n",
      "2                     1      Beijing 2022              1993.0           None   \n",
      "3                     1      Beijing 2022              1995.0           None   \n",
      "4                     1      Beijing 2022              1989.0           None   \n",
      "\n",
      "    bio  \n",
      "0  None  \n",
      "1  None  \n",
      "2  None  \n",
      "3  None  \n",
      "4  None  \n"
     ]
    }
   ],
   "source": [
    "json_path = Path(\"../data/raw/olympic_athletes.json\")\n",
    "# Load the JSON data\n",
    "with open(json_path, \"r\") as f:\n",
    "    json_data = json.load(f)\n",
    "\n",
    "# Convert JSON data to DataFrame\n",
    "df_athletes = pd.json_normalize(json_data)\n"
   ]
  },
  {
   "cell_type": "code",
   "execution_count": 19,
   "id": "d5457357",
   "metadata": {},
   "outputs": [
    {
     "name": "stdout",
     "output_type": "stream",
     "text": [
      "                                      athlete_url athlete_full_name  \\\n",
      "count                                       75904             75904   \n",
      "unique                                      75900             75480   \n",
      "top     https://olympics.com/en/athletes/geiger-1          Nan WANG   \n",
      "freq                                            2                 4   \n",
      "mean                                          NaN               NaN   \n",
      "std                                           NaN               NaN   \n",
      "min                                           NaN               NaN   \n",
      "25%                                           NaN               NaN   \n",
      "50%                                           NaN               NaN   \n",
      "75%                                           NaN               NaN   \n",
      "max                                           NaN               NaN   \n",
      "\n",
      "        games_participations first_game  athlete_year_birth    athlete_medals  \\\n",
      "count           75904.000000      75882        73448.000000             15352   \n",
      "unique                   NaN         53                 NaN               170   \n",
      "top                      NaN   Rio 2016                 NaN  \\n\\n\\n1\\n\\nB\\n\\n   \n",
      "freq                     NaN       4111                 NaN              4209   \n",
      "mean                1.535874        NaN         1961.619377               NaN   \n",
      "std                 0.854563        NaN           28.129576               NaN   \n",
      "min                 0.000000        NaN         1836.000000               NaN   \n",
      "25%                 1.000000        NaN         1946.000000               NaN   \n",
      "50%                 1.000000        NaN         1968.000000               NaN   \n",
      "75%                 2.000000        NaN         1983.000000               NaN   \n",
      "max                10.000000        NaN         2009.000000               NaN   \n",
      "\n",
      "                                                    bio  \n",
      "count                                             22842  \n",
      "unique                                            22530  \n",
      "top     \\n\\n\\nPersonal Best: Mar – unknown.\\n\\n\\n\\n\\n\\n  \n",
      "freq                                                110  \n",
      "mean                                                NaN  \n",
      "std                                                 NaN  \n",
      "min                                                 NaN  \n",
      "25%                                                 NaN  \n",
      "50%                                                 NaN  \n",
      "75%                                                 NaN  \n",
      "max                                                 NaN  \n"
     ]
    }
   ],
   "source": [
    "#print(df_athletes.info())\n",
    "#print(df_athletes.head())\n",
    "#print(df_athletes.isnull().sum())\n",
    "#print(df_athletes.head(10))\n",
    "print(df_athletes.describe(include='all'))\n"
   ]
  },
  {
   "cell_type": "code",
   "execution_count": null,
   "id": "d01b7626",
   "metadata": {},
   "outputs": [
    {
     "name": "stdout",
     "output_type": "stream",
     "text": [
      "(21697, 16)\n",
      "['year', 'games_slug', 'sport', 'event', 'event_gender', 'participant_type', 'participant_title', 'athlete', 'athlete_url', 'country', 'country_code', 'noc', 'medal', 'gold', 'silver', 'bronze']\n",
      "   year    games_slug    sport          event event_gender participant_type  \\\n",
      "0  2022  beijing-2022  Curling  Mixed Doubles        Mixed         GameTeam   \n",
      "1  2022  beijing-2022  Curling  Mixed Doubles        Mixed         GameTeam   \n",
      "2  2022  beijing-2022  Curling  Mixed Doubles        Mixed         GameTeam   \n",
      "3  2022  beijing-2022  Curling  Mixed Doubles        Mixed         GameTeam   \n",
      "4  2022  beijing-2022  Curling  Mixed Doubles        Mixed         GameTeam   \n",
      "\n",
      "  participant_title               athlete  \\\n",
      "0             Italy  Stefania CONSTANTINI   \n",
      "1             Italy          Amos MOSANER   \n",
      "2            Norway      Kristin SKASLIEN   \n",
      "3            Norway    Magnus NEDREGOTTEN   \n",
      "4            Sweden         Almida DE VAL   \n",
      "\n",
      "                                         athlete_url country country_code  \\\n",
      "0  https://olympics.com/en/athletes/stefania-cons...   Italy           IT   \n",
      "1      https://olympics.com/en/athletes/amos-mosaner   Italy           IT   \n",
      "2  https://olympics.com/en/athletes/kristin-skaslien  Norway           NO   \n",
      "3  https://olympics.com/en/athletes/magnus-nedreg...  Norway           NO   \n",
      "4     https://olympics.com/en/athletes/almida-de-val  Sweden           SE   \n",
      "\n",
      "   noc   medal  gold  silver  bronze  \n",
      "0  ITA    GOLD     1       0       0  \n",
      "1  ITA    GOLD     1       0       0  \n",
      "2  NOR  SILVER     0       1       0  \n",
      "3  NOR  SILVER     0       1       0  \n",
      "4  SWE  BRONZE     0       0       1  \n"
     ]
    }
   ],
   "source": [
    "med = pd.read_csv(\"../data/clean/olympic_medals_clean.csv\")\n",
    "p"
   ]
  },
  {
   "cell_type": "code",
   "execution_count": null,
   "id": "6af4ff17",
   "metadata": {},
   "outputs": [
    {
     "name": "stdout",
     "output_type": "stream",
     "text": [
      "year                     0\n",
      "games_slug               0\n",
      "sport                    0\n",
      "event                    0\n",
      "event_gender             0\n",
      "participant_type         0\n",
      "participant_title    15113\n",
      "athlete               3624\n",
      "athlete_url           4670\n",
      "country                  0\n",
      "country_code          1502\n",
      "noc                      0\n",
      "medal                    0\n",
      "gold                     0\n",
      "silver                   0\n",
      "bronze                   0\n",
      "dtype: int64\n"
     ]
    }
   ],
   "source": [
    "print(med.isnull().sum())\n"
   ]
  }
 ],
 "metadata": {
  "kernelspec": {
   "display_name": "base",
   "language": "python",
   "name": "python3"
  },
  "language_info": {
   "codemirror_mode": {
    "name": "ipython",
    "version": 3
   },
   "file_extension": ".py",
   "mimetype": "text/x-python",
   "name": "python",
   "nbconvert_exporter": "python",
   "pygments_lexer": "ipython3",
   "version": "3.12.7"
  }
 },
 "nbformat": 4,
 "nbformat_minor": 5
}
